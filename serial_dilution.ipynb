{
 "cells": [
  {
   "cell_type": "code",
   "execution_count": 27,
   "id": "ccbd3d54-b786-45fb-9d87-667f65693bcd",
   "metadata": {},
   "outputs": [],
   "source": [
    "import opentrons as ot\n",
    "from opentrons import protocol_api\n",
    "\n",
    "metadata = {'apiLevel': '2.13'}"
   ]
  },
  {
   "cell_type": "code",
   "execution_count": 28,
   "id": "4f12b50b-6341-452a-85e0-f670508c3705",
   "metadata": {},
   "outputs": [
    {
     "name": "stderr",
     "output_type": "stream",
     "text": [
      "/Users/omelkonyan/.opentrons/robot_settings.json not found. Loading defaults\n",
      "/Users/omelkonyan/.opentrons/deck_calibration.json not found. Loading defaults\n"
     ]
    }
   ],
   "source": [
    "from opentrons import simulate\n",
    "protocol = simulate.get_protocol_api(metadata['apiLevel']) # uncomment to run in simulation\n",
    "\n",
    "#protocol = opentrons.execute.get_protocol_api(metadata['apiLevel']) # uncomment to run on the actual hardware\n"
   ]
  },
  {
   "cell_type": "code",
   "execution_count": 29,
   "id": "8a7327ad-c460-43ef-8a35-d11066d738fe",
   "metadata": {},
   "outputs": [],
   "source": [
    "# Load labware\n",
    "plate = protocol.load_labware('corning_96_wellplate_360ul_flat', 2)\n",
    "block = plate #protocol.load_labware('xxx', )\n",
    "tiprack = protocol.load_labware('opentrons_96_tiprack_300ul', 1)\n",
    "pipette = protocol.load_instrument('p300_single', 'right',\n",
    "                                     tip_racks=[tiprack])"
   ]
  },
  {
   "cell_type": "code",
   "execution_count": 30,
   "id": "14869d67-849a-456f-8c54-1847a2246073",
   "metadata": {},
   "outputs": [],
   "source": [
    "def serial_dilution(dye, water, destination_wells, dilution_factor=0.5, volume=50):\n",
    "    vol_water = (1-dilution_factor) * volume\n",
    "    vol_dye = dilution_factor * volume\n",
    "    \n",
    "    pipette.pick_up_tip() \n",
    "    \n",
    "    # Per-fill with water\n",
    "    for well in destination_wells:\n",
    "        pipette.aspirate(vol_water, water)\n",
    "        pipette.dispense(vol_water, well)\n",
    "    \n",
    "    # For each destination well, calcualte where we will take liquid from \n",
    "    source_wells = [dye] + destination_wells[:-1]\n",
    "    print('Source wells:', source_wells)\n",
    "    \n",
    "    # Pre-mix dye container\n",
    "    pipette.mix(3, 150, dye)\n",
    "    for source_well, dest_well in zip(source_wells, destination_wells):\n",
    "        pipette.aspirate(vol_dye, source_well)\n",
    "        pipette.dispense(vol_dye, dest_well)\n",
    "        pipette.mix(3, 150, dest_well)\n",
    "    \n",
    "    pipette.drop_tip()"
   ]
  },
  {
   "cell_type": "code",
   "execution_count": 31,
   "id": "83817874-4486-4023-b9a4-4d537e3c4380",
   "metadata": {},
   "outputs": [
    {
     "name": "stdout",
     "output_type": "stream",
     "text": [
      "Destination wells: [A1 of Corning 96 Well Plate 360 µL Flat on 2, A2 of Corning 96 Well Plate 360 µL Flat on 2, A3 of Corning 96 Well Plate 360 µL Flat on 2, A4 of Corning 96 Well Plate 360 µL Flat on 2]\n",
      "Source wells: [A1 of Corning 96 Well Plate 360 µL Flat on 2, A1 of Corning 96 Well Plate 360 µL Flat on 2, A2 of Corning 96 Well Plate 360 µL Flat on 2, A3 of Corning 96 Well Plate 360 µL Flat on 2]\n"
     ]
    }
   ],
   "source": [
    "dest_wells = plate.rows_by_name()['A'][:4]\n",
    "print('Destination wells:', dest_wells)\n",
    "serial_dilution(dye=block['A1'], water=block['A2'], destination_wells=dest_wells)"
   ]
  },
  {
   "cell_type": "code",
   "execution_count": null,
   "id": "c812e2a9-ac3b-4f14-8c9c-061fe2390dab",
   "metadata": {},
   "outputs": [],
   "source": []
  }
 ],
 "metadata": {
  "kernelspec": {
   "display_name": "Python 3 (ipykernel)",
   "language": "python",
   "name": "python3"
  },
  "language_info": {
   "codemirror_mode": {
    "name": "ipython",
    "version": 3
   },
   "file_extension": ".py",
   "mimetype": "text/x-python",
   "name": "python",
   "nbconvert_exporter": "python",
   "pygments_lexer": "ipython3",
   "version": "3.9.6"
  }
 },
 "nbformat": 4,
 "nbformat_minor": 5
}

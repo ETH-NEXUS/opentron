{
 "cells": [
  {
   "cell_type": "code",
   "execution_count": 33,
   "metadata": {},
   "outputs": [],
   "source": [
    "import opentrons.execute\n",
    "from opentrons import protocol_api\n",
    "\n",
    "metadata = {'apiLevel': '2.13'}"
   ]
  },
  {
   "cell_type": "code",
   "execution_count": 40,
   "metadata": {},
   "outputs": [],
   "source": [
    "from opentrons import simulate\n",
    "# protocol = simulate.get_protocol_api(metadata['apiLevel']) # uncomment to run in simulation\n",
    "\n",
    "protocol = opentrons.execute.get_protocol_api(metadata['apiLevel']) # uncomment to run on the actual hardware\n"
   ]
  },
  {
   "cell_type": "code",
   "execution_count": 41,
   "metadata": {},
   "outputs": [
    {
     "ename": "NameError",
     "evalue": "name 'tip_rack_1' is not defined",
     "output_type": "error",
     "traceback": [
      "\u001b[0;31m---------------------------------------------------------------------------\u001b[0m",
      "\u001b[0;31mNameError\u001b[0m                                 Traceback (most recent call last)",
      "\u001b[0;32m<ipython-input-41-5c7e4ce66354>\u001b[0m in \u001b[0;36m<module>\u001b[0;34m()\u001b[0m\n\u001b[1;32m      5\u001b[0m pipette = protocol.load_instrument('p300_single', 'right',\n\u001b[1;32m      6\u001b[0m                                      tip_racks=[tiprack])\n\u001b[0;32m----> 7\u001b[0;31m \u001b[0mpipette\u001b[0m\u001b[0;34m.\u001b[0m\u001b[0mstarting_tip\u001b[0m \u001b[0;34m=\u001b[0m \u001b[0mtip_rack_1\u001b[0m\u001b[0;34m.\u001b[0m\u001b[0mwell\u001b[0m\u001b[0;34m(\u001b[0m\u001b[0;34m'D1'\u001b[0m\u001b[0;34m)\u001b[0m\u001b[0;34m\u001b[0m\u001b[0;34m\u001b[0m\u001b[0m\n\u001b[0m",
      "\u001b[0;31mNameError\u001b[0m: name 'tip_rack_1' is not defined"
     ]
    }
   ],
   "source": [
    "# Load labware\n",
    "plate = protocol.load_labware('corning_96_wellplate_360ul_flat', 1)\n",
    "block = protocol.load_labware('opentrons_24_aluminumblock_nest_1.5ml_snapcap', 2)\n",
    "tiprack = protocol.load_labware('opentrons_96_tiprack_300ul', 8)\n",
    "pipette = protocol.load_instrument('p300_single', 'right',\n",
    "                                     tip_racks=[tiprack])\n"
   ]
  },
  {
   "cell_type": "code",
   "execution_count": 42,
   "metadata": {},
   "outputs": [],
   "source": [
    "pipette.starting_tip = tiprack.well('D1')"
   ]
  },
  {
   "cell_type": "code",
   "execution_count": 45,
   "metadata": {},
   "outputs": [],
   "source": [
    "def serial_dilution(dye, water, destination_wells, dilution_factor=0.5, final_volume=50):\n",
    "    assert 0 < dilution_factor < 1\n",
    "    transfer_volume = final_volume * dilution_factor / (1-dilution_factor)\n",
    "    transient_volume = final_volume + transfer_volume\n",
    "    vol_water = final_volume\n",
    "    vol_dye = transfer_volume\n",
    "    \n",
    "    print('Transient volume: ', transient_volume, '; Volume water: ', vol_water, '; Volume Dye: ', vol_dye)\n",
    "    \n",
    "    pipette.pick_up_tip() \n",
    "    \n",
    "    # Per-fill with water\n",
    "    pipette.distribute(vol_water, water, destination_wells, new_tip='never')\n",
    "    \n",
    "    # For each destination well, calcualte where we will take liquid from \n",
    "    source_wells = [dye] + destination_wells[:-1]\n",
    "    print('Source wells:', source_wells)\n",
    "    \n",
    "    # Pre-mix dye container\n",
    "    pipette.mix(3, 150, dye)\n",
    "    for source_well, dest_well in zip(source_wells, destination_wells):\n",
    "        pipette.aspirate(vol_dye, source_well)\n",
    "        pipette.dispense(vol_dye, dest_well)\n",
    "        pipette.mix(3, transient_volume*0.8, dest_well)\n",
    "    \n",
    "    pipette.drop_tip()"
   ]
  },
  {
   "cell_type": "code",
   "execution_count": 46,
   "metadata": {},
   "outputs": [
    {
     "name": "stdout",
     "output_type": "stream",
     "text": [
      "Destination wells: [E1 of Corning 96 Well Plate 360 µL Flat on 1, E2 of Corning 96 Well Plate 360 µL Flat on 1, E3 of Corning 96 Well Plate 360 µL Flat on 1, E4 of Corning 96 Well Plate 360 µL Flat on 1, E5 of Corning 96 Well Plate 360 µL Flat on 1]\n",
      "Transient volume:  166.66666666666663 ; Volume water:  50 ; Volume Dye:  116.66666666666664\n",
      "Source wells: [A1 of Opentrons 24 Well Aluminum Block with NEST 1.5 mL Snapcap on 2, E1 of Corning 96 Well Plate 360 µL Flat on 1, E2 of Corning 96 Well Plate 360 µL Flat on 1, E3 of Corning 96 Well Plate 360 µL Flat on 1, E4 of Corning 96 Well Plate 360 µL Flat on 1]\n"
     ]
    }
   ],
   "source": [
    "dest_wells = plate.rows_by_name()['E'][:5]\n",
    "print('Destination wells:', dest_wells)\n",
    "serial_dilution(dye=block['A1'], water=block['A2'], destination_wells=dest_wells, final_volume=50, dilution_factor=0.7)"
   ]
  },
  {
   "cell_type": "code",
   "execution_count": 11,
   "metadata": {},
   "outputs": [
    {
     "data": {
      "text/plain": [
       "<InstrumentContext: p300_single_v2.1 in RIGHT>"
      ]
     },
     "execution_count": 11,
     "metadata": {},
     "output_type": "execute_result"
    }
   ],
   "source": []
  },
  {
   "cell_type": "code",
   "execution_count": null,
   "metadata": {},
   "outputs": [],
   "source": []
  }
 ],
 "metadata": {
  "kernelspec": {
   "display_name": "Python 3",
   "language": "python",
   "name": "python3"
  },
  "language_info": {
   "codemirror_mode": {
    "name": "ipython",
    "version": 3
   },
   "file_extension": ".py",
   "mimetype": "text/x-python",
   "name": "python",
   "nbconvert_exporter": "python",
   "pygments_lexer": "ipython3",
   "version": "3.7.1"
  }
 },
 "nbformat": 4,
 "nbformat_minor": 5
}

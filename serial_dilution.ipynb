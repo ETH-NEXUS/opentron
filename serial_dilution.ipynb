{
 "cells": [
  {
   "cell_type": "code",
   "execution_count": 2,
   "id": "d327b758",
   "metadata": {},
   "outputs": [],
   "source": [
    "import opentrons.execute\n",
    "from opentrons import protocol_api\n",
    "\n",
    "metadata = {'apiLevel': '2.13'}"
   ]
  },
  {
   "cell_type": "code",
   "execution_count": 3,
   "id": "b05e2db7",
   "metadata": {},
   "outputs": [
    {
     "name": "stderr",
     "output_type": "stream",
     "text": [
      "/Users/omelkonyan/.opentrons/robot_settings.json not found. Loading defaults\n",
      "/Users/omelkonyan/.opentrons/deck_calibration.json not found. Loading defaults\n"
     ]
    }
   ],
   "source": [
    "from opentrons import simulate\n",
    "protocol = simulate.get_protocol_api(metadata['apiLevel']) # uncomment to run in simulation\n",
    "\n",
    "# protocol = opentrons.execute.get_protocol_api(metadata['apiLevel']) # uncomment to run on the actual hardware\n"
   ]
  },
  {
   "cell_type": "code",
   "execution_count": 4,
   "id": "9b6260a0",
   "metadata": {},
   "outputs": [],
   "source": [
    "# Load labware\n",
    "plate = protocol.load_labware('corning_96_wellplate_360ul_flat', 1)\n",
    "block = protocol.load_labware('opentrons_24_aluminumblock_nest_1.5ml_snapcap', 2)\n",
    "tiprack = protocol.load_labware('opentrons_96_tiprack_300ul', 8)\n",
    "pipette = protocol.load_instrument('p300_single', 'right',\n",
    "                                     tip_racks=[tiprack])\n"
   ]
  },
  {
   "cell_type": "code",
   "execution_count": 5,
   "id": "0998c3b3",
   "metadata": {},
   "outputs": [],
   "source": [
    "pipette.starting_tip = tiprack.well('D1')"
   ]
  },
  {
   "cell_type": "code",
   "execution_count": 6,
   "id": "58d27722",
   "metadata": {},
   "outputs": [],
   "source": [
    "def serial_dilution(dye, water, destination_wells, dilution_factor=0.5, final_volume=50):\n",
    "    assert 0 < dilution_factor < 1\n",
    "    transfer_volume = final_volume * dilution_factor / (1-dilution_factor)\n",
    "    transient_volume = final_volume + transfer_volume\n",
    "    vol_water = final_volume\n",
    "    vol_dye = transfer_volume\n",
    "    \n",
    "    print('Transient volume: ', transient_volume, '; Volume water: ', vol_water, '; Volume Dye: ', vol_dye)\n",
    "    \n",
    "    pipette.pick_up_tip() \n",
    "    \n",
    "    # Per-fill with water\n",
    "    pipette.distribute(vol_water, water, destination_wells, new_tip='never')\n",
    "    \n",
    "    # For each destination well, calcualte where we will take liquid from \n",
    "    source_wells = [dye] + destination_wells[:-1]\n",
    "    print('Source wells:', source_wells)\n",
    "    \n",
    "    # Pre-mix dye container\n",
    "    pipette.mix(3, 150, dye)\n",
    "    for source_well, dest_well in zip(source_wells, destination_wells):\n",
    "        pipette.aspirate(vol_dye, source_well)\n",
    "        pipette.dispense(vol_dye, dest_well)\n",
    "        pipette.mix(3, transient_volume*0.8, dest_well)\n",
    "    \n",
    "    pipette.drop_tip()"
   ]
  },
  {
   "cell_type": "code",
   "execution_count": 7,
   "id": "41c14773",
   "metadata": {},
   "outputs": [
    {
     "name": "stdout",
     "output_type": "stream",
     "text": [
      "Destination wells: [E1 of Corning 96 Well Plate 360 µL Flat on 1, E2 of Corning 96 Well Plate 360 µL Flat on 1, E3 of Corning 96 Well Plate 360 µL Flat on 1, E4 of Corning 96 Well Plate 360 µL Flat on 1, E5 of Corning 96 Well Plate 360 µL Flat on 1]\n",
      "Transient volume:  166.66666666666663 ; Volume water:  50 ; Volume Dye:  116.66666666666664\n",
      "Source wells: [A1 of Opentrons 24 Well Aluminum Block with NEST 1.5 mL Snapcap on 2, E1 of Corning 96 Well Plate 360 µL Flat on 1, E2 of Corning 96 Well Plate 360 µL Flat on 1, E3 of Corning 96 Well Plate 360 µL Flat on 1, E4 of Corning 96 Well Plate 360 µL Flat on 1]\n"
     ]
    }
   ],
   "source": [
    "dest_wells = plate.rows_by_name()['E'][:5]\n",
    "print('Destination wells:', dest_wells)\n",
    "serial_dilution(dye=block['A1'], water=block['A2'], destination_wells=dest_wells, final_volume=50, dilution_factor=0.7)"
   ]
  },
  {
   "cell_type": "code",
   "execution_count": 8,
   "id": "4764fbb4",
   "metadata": {},
   "outputs": [
    {
     "data": {
      "text/plain": [
       "A1 of Opentrons 24 Well Aluminum Block with NEST 1.5 mL Snapcap on 2"
      ]
     },
     "execution_count": 8,
     "metadata": {},
     "output_type": "execute_result"
    }
   ],
   "source": [
    "block['A1']"
   ]
  },
  {
   "cell_type": "code",
   "execution_count": null,
   "id": "b2ed2df6",
   "metadata": {},
   "outputs": [],
   "source": []
  }
 ],
 "metadata": {
  "kernelspec": {
   "display_name": "Python 3 (ipykernel)",
   "language": "python",
   "name": "python3"
  },
  "language_info": {
   "codemirror_mode": {
    "name": "ipython",
    "version": 3
   },
   "file_extension": ".py",
   "mimetype": "text/x-python",
   "name": "python",
   "nbconvert_exporter": "python",
   "pygments_lexer": "ipython3",
   "version": "3.9.6"
  }
 },
 "nbformat": 4,
 "nbformat_minor": 5
}

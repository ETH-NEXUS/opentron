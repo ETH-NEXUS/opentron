{
 "cells": [
  {
   "cell_type": "markdown",
   "metadata": {},
   "source": [
    "### Load labware"
   ]
  },
  {
   "cell_type": "code",
   "execution_count": 32,
   "metadata": {},
   "outputs": [],
   "source": [
    "import opentrons.execute\n",
    "from opentrons import protocol_api\n",
    "\n",
    "metadata = {'apiLevel': '2.13'}"
   ]
  },
  {
   "cell_type": "code",
   "execution_count": 35,
   "metadata": {
    "tags": []
   },
   "outputs": [],
   "source": [
    "from opentrons import simulate\n",
    "#protocol = simulate.get_protocol_api(metadata['apiLevel']) # uncomment to run in simulation\n",
    "\n",
    "protocol = opentrons.execute.get_protocol_api(metadata['apiLevel']) # uncomment to run on the actual hardware"
   ]
  },
  {
   "cell_type": "code",
   "execution_count": 36,
   "metadata": {},
   "outputs": [],
   "source": [
    "mag_deck = protocol.load_module('magneticModuleV2', 1)\n",
    "mag_plate = mag_deck.load_labware(\n",
    "    'biorad_96_wellplate_200ul_pcr')\n",
    "block = protocol.load_labware('opentrons_24_aluminumblock_nest_1.5ml_snapcap', 2)\n",
    "tiprack = protocol.load_labware('opentrons_96_tiprack_300ul', 5)\n",
    "pipette = protocol.load_instrument('p300_single_gen2', 'right',\n",
    "                                     tip_racks=[tiprack])\n",
    "pipette.starting_tip = tiprack['A1'] # TODO: change to the starting position of your tiprack, tips are taken column-wise\n",
    "\n",
    "tiprack_20 = tiprack = protocol.load_labware('opentrons_96_tiprack_20ul', 4)\n",
    "p20 = protocol.load_instrument('p20_single_gen2', 'left', tip_racks=[tiprack_20])\n",
    "p20.starting_tip = tiprack_20['E2']"
   ]
  },
  {
   "cell_type": "markdown",
   "metadata": {},
   "source": [
    "### Define inputs and volumes"
   ]
  },
  {
   "cell_type": "code",
   "execution_count": 37,
   "metadata": {},
   "outputs": [],
   "source": [
    "# Define reagents and liquid waste\n",
    "sample = block['B1']\n",
    "beads = block['A1']\n",
    "beads_well = mag_plate['H6']\n",
    "output = block['D6']\n",
    "\n",
    "wash_buffer = block['A2']\n",
    "elution_buffer = block['A3']\n",
    "binding_buffer = block['A4']\n",
    "liquid_waste = block['A5']\n",
    "\n",
    "\n",
    "# Define bead and mix volume\n",
    "sample_volume = 10\n",
    "bead_ratio = 1.8\n",
    "binding_buf_volume = 90\n",
    "elution_buf_volume = 20\n",
    "washing_buf_volume = 100\n",
    "beads_volume = sample_volume*bead_ratio\n",
    "\n",
    "total_vol = beads_volume + binding_buf_volume + sample_volume\n",
    "\n",
    "# define waiting times\n",
    "settling_time = 1 # minute\n",
    "incubation_time = 5 # minutes\n",
    "drying_time = 40 # minutes"
   ]
  },
  {
   "cell_type": "markdown",
   "metadata": {},
   "source": [
    "### Helper functions"
   ]
  },
  {
   "cell_type": "code",
   "execution_count": 22,
   "metadata": {},
   "outputs": [],
   "source": [
    "def remove_supernatant(volume, source, dest, asp_rate=0.2):\n",
    "    \"\"\" Remove supernatant carefully, with lower aspiration rate to not disturb the pellet\"\"\"\n",
    "    pipette.pick_up_tip()\n",
    "    pipette.aspirate(volume+10, source, rate=asp_rate) # add extra 10ul to make sure we aspirate everything\n",
    "    pipette.dispense(volume+10, dest)\n",
    "    pipette.blow_out()\n",
    "    pipette.drop_tip()"
   ]
  },
  {
   "cell_type": "markdown",
   "metadata": {},
   "source": [
    "### Prepare Beads"
   ]
  },
  {
   "cell_type": "code",
   "execution_count": 23,
   "metadata": {},
   "outputs": [
    {
     "data": {
      "text/plain": [
       "<InstrumentContext: p20_single_v2.1 in LEFT>"
      ]
     },
     "execution_count": 23,
     "metadata": {},
     "output_type": "execute_result"
    }
   ],
   "source": [
    "pipette.home()\n",
    "pipette.pick_up_tip()\n",
    "pipette.mix(10, 150, beads)\n",
    "pipette.drop_tip()\n",
    "p20.transfer(beads_volume, beads, beads_well)"
   ]
  },
  {
   "cell_type": "code",
   "execution_count": 25,
   "metadata": {},
   "outputs": [],
   "source": [
    "\n",
    "mag_deck.engage()\n",
    "# wait for beads to separate\n",
    "protocol.delay(minutes=settling_time) \n",
    "\n",
    "# wash supernatant\n",
    "p20.transfer(beads_volume, beads_well, liquid_waste)\n",
    "mag_deck.disengage()\n",
    "\n",
    "# wash twice with elution buffer\n",
    "for _ in range(2):\n",
    "    pipette.transfer(100, elution_buffer, beads_well, mix_after=(10, 50))\n",
    "    mag_deck.engage()\n",
    "    protocol.delay(minutes=settling_time)\n",
    "    remove_supernatant(100, beads_well, liquid_waste)\n",
    "    mag_deck.disengage()"
   ]
  },
  {
   "cell_type": "markdown",
   "metadata": {},
   "source": [
    "### Purify Plasmid"
   ]
  },
  {
   "cell_type": "code",
   "execution_count": 26,
   "metadata": {},
   "outputs": [
    {
     "data": {
      "text/plain": [
       "<InstrumentContext: p300_single_v2.1 in RIGHT>"
      ]
     },
     "execution_count": 26,
     "metadata": {},
     "output_type": "execute_result"
    }
   ],
   "source": [
    "# Mix sample with binding buffer\n",
    "pipette.pick_up_tip()\n",
    "pipette.mix(20, 150, sample)\n",
    "pipette.drop_tip()\n",
    "p20.transfer(sample_volume, sample, beads_well) \n",
    "pipette.transfer(binding_buf_volume, binding_buffer, beads_well, mix_after=(10, 50))"
   ]
  },
  {
   "cell_type": "code",
   "execution_count": 27,
   "metadata": {},
   "outputs": [],
   "source": [
    "# Incubate beads and sample at room temperature\n",
    "protocol.delay(minutes=incubation_time) # Note: original protocol incubates while gently mixing, so this step could be a problem\n"
   ]
  },
  {
   "cell_type": "code",
   "execution_count": 28,
   "metadata": {},
   "outputs": [],
   "source": [
    "# Engagae MagDeck and incubate\n",
    "mag_deck.engage()\n",
    "protocol.delay(minutes=settling_time)"
   ]
  },
  {
   "cell_type": "code",
   "execution_count": 29,
   "metadata": {},
   "outputs": [],
   "source": [
    "# Remove supernatant from magnetic beads\n",
    "remove_supernatant(total_vol, beads_well, liquid_waste)\n"
   ]
  },
  {
   "cell_type": "code",
   "execution_count": 30,
   "metadata": {},
   "outputs": [],
   "source": [
    "# Wash beads twice with wash buffer\n",
    "air_vol = pipette.max_volume * 0.1\n",
    "wash_buf_volume = 100\n",
    "mix_vol = wash_buf_volume / 2\n",
    "for _ in range(2):\n",
    "    mag_deck.disengage()\n",
    "    pipette.transfer(wash_buf_volume, wash_buffer, beads_well, air_gap=air_vol, mix_after=(10, mix_vol))\n",
    "    mag_deck.engage()\n",
    "    protocol.delay(minutes=settling_time)\n",
    "    pipette.transfer(wash_buf_volume, beads_well, liquid_waste, air_gap=air_vol) # TODO: do I need to be careful with aspiration rate here?\n"
   ]
  },
  {
   "cell_type": "code",
   "execution_count": null,
   "metadata": {},
   "outputs": [],
   "source": [
    "# Disengage MagDeck\n",
    "mag_deck.disengage()\n",
    "\n",
    "# Dry at RT\n",
    "protocol.delay(minutes=drying_time)"
   ]
  },
  {
   "cell_type": "markdown",
   "metadata": {},
   "source": [
    "## Elute and collect the plasmid"
   ]
  },
  {
   "cell_type": "code",
   "execution_count": 38,
   "metadata": {},
   "outputs": [
    {
     "data": {
      "text/plain": [
       "<InstrumentContext: p300_single_v2.1 in RIGHT>"
      ]
     },
     "execution_count": 38,
     "metadata": {},
     "output_type": "execute_result"
    }
   ],
   "source": [
    "mix_vol = elution_buf_volume/2\n",
    "pipette.transfer(elution_buf_volume, elution_buffer, beads_well, mix_after=(20, mix_vol))\n"
   ]
  },
  {
   "cell_type": "code",
   "execution_count": 39,
   "metadata": {},
   "outputs": [],
   "source": [
    "\n",
    "# Incubate at RT\n",
    "protocol.delay(minutes=incubation_time) # TODO: we need some mixing here"
   ]
  },
  {
   "cell_type": "code",
   "execution_count": 47,
   "metadata": {},
   "outputs": [],
   "source": [
    "# Engage MagDeck and remain engaged for DNA elution\n",
    "mag_deck.engage()\n",
    "protocol.delay(minutes=settling_time)\n",
    "\n",
    "# Transfer clean PCR product to a new well\n",
    "remove_supernatant(elution_buf_volume, beads_well, output)\n"
   ]
  },
  {
   "cell_type": "code",
   "execution_count": 13,
   "metadata": {},
   "outputs": [],
   "source": [
    "def test_wb_1():\n",
    "    pipette.home()\n",
    "    #pipette.pick_up_tip()\n",
    "    #pipette.mix(10, 150, beads)\n",
    "    #pipette.drop_tip()\n",
    "    p20.transfer(beads_volume, beads, beads_well)\n",
    "\n",
    "def test_wb_2():\n",
    "    mag_deck.engage()\n",
    "    # wait for beads to separate\n",
    "    protocol.delay(minutes=settling_time) \n",
    "    # wash supernatant\n",
    "    p20.transfer(beads_volume, beads_well, liquid_waste)\n",
    "    mag_deck.disengage()\n",
    "    \n",
    "def test_wb_3():\n",
    "    # Wash beads twice with wash buffer\n",
    "    air_vol = pipette.max_volume * 0.1\n",
    "    wash_buf_volume = 100\n",
    "    mix_vol = wash_buf_volume / 2\n",
    "    for _ in range(1):\n",
    "        mag_deck.disengage()\n",
    "        pipette.transfer(wash_buf_volume, wash_buffer, beads_well, air_gap=air_vol, mix_after=(10, mix_vol))\n",
    "        mag_deck.engage()\n",
    "        protocol.delay(minutes=settling_time)\n",
    "        pipette.transfer(wash_buf_volume, beads_well, liquid_waste, air_gap=air_vol)\n",
    "    mag_deck.disengage()\n",
    "    \n",
    "def test_elution_1():\n",
    "    mix_vol = elution_buf_volume/2\n",
    "    pipette.transfer(elution_buf_volume, elution_buffer, beads_well, mix_after=(20, mix_vol))\n",
    "    mag_deck.engage()\n",
    "    protocol.delay(minutes=settling_time)\n",
    "\n",
    "def test_elution_2():\n",
    "    remove_supernatant(elution_buf_volume, beads_well, output)"
   ]
  },
  {
   "cell_type": "code",
   "execution_count": null,
   "metadata": {},
   "outputs": [],
   "source": []
  }
 ],
 "metadata": {
  "kernelspec": {
   "display_name": "Python 3",
   "language": "python",
   "name": "python3"
  },
  "language_info": {
   "codemirror_mode": {
    "name": "ipython",
    "version": 3
   },
   "file_extension": ".py",
   "mimetype": "text/x-python",
   "name": "python",
   "nbconvert_exporter": "python",
   "pygments_lexer": "ipython3",
   "version": "3.7.1"
  }
 },
 "nbformat": 4,
 "nbformat_minor": 5
}

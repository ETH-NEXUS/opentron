{
 "cells": [
  {
   "cell_type": "markdown",
   "id": "351afade-e2c2-4a67-a42c-6f68a683d6f9",
   "metadata": {},
   "source": [
    "### Load labware"
   ]
  },
  {
   "cell_type": "code",
   "execution_count": 140,
   "id": "9307e0b6-35aa-4a74-bde4-130afb65bb45",
   "metadata": {},
   "outputs": [],
   "source": [
    "import opentrons as ot\n",
    "from opentrons import protocol_api\n",
    "\n",
    "metadata = {'apiLevel': '2.13'}"
   ]
  },
  {
   "cell_type": "code",
   "execution_count": 141,
   "id": "158def7c-be7e-424e-8a4e-2c60a0c9d9c4",
   "metadata": {
    "tags": []
   },
   "outputs": [
    {
     "name": "stderr",
     "output_type": "stream",
     "text": [
      "/Users/omelkonyan/.opentrons/robot_settings.json not found. Loading defaults\n",
      "/Users/omelkonyan/.opentrons/deck_calibration.json not found. Loading defaults\n"
     ]
    }
   ],
   "source": [
    "from opentrons import simulate\n",
    "protocol = simulate.get_protocol_api(metadata['apiLevel']) # uncomment to run in simulation\n",
    "\n",
    "#protocol = opentrons.execute.get_protocol_api(metadata['apiLevel']) # uncomment to run on the actual hardware"
   ]
  },
  {
   "cell_type": "code",
   "execution_count": 142,
   "id": "3aafacca-8c65-49a5-be2a-5308545c5138",
   "metadata": {},
   "outputs": [],
   "source": [
    "mag_deck = protocol.load_module('magneticModuleV2', 7)\n",
    "mag_plate = mag_deck.load_labware(\n",
    "    'biorad_96_wellplate_200ul_pcr')\n",
    "block = protocol.load_labware('opentrons_24_aluminumblock_nest_1.5ml_snapcap', 2)\n",
    "tiprack = protocol.load_labware('opentrons_96_tiprack_300ul', 5)\n",
    "pipette = protocol.load_instrument('p300_single_gen2', 'right',\n",
    "                                     tip_racks=[tiprack])\n",
    "pipette.starting_tip = tiprack['A1'] # TODO: change to the starting position of your tiprack, tips are taken column-wise\n",
    "\n",
    "tiprack_20 = tiprack = protocol.load_labware('opentrons_96_tiprack_20ul', 4)\n",
    "p20 = protocol.load_instrument('p20_single_gen2', 'left', tip_racks=[tiprack_20])"
   ]
  },
  {
   "cell_type": "markdown",
   "id": "0f6ca306-fa63-4d93-aab3-f96a3f9ad85e",
   "metadata": {},
   "source": [
    "### Define inputs and volumes"
   ]
  },
  {
   "cell_type": "code",
   "execution_count": 143,
   "id": "b4eba8a7-9fd0-48f5-bba2-eb598a2cbbce",
   "metadata": {},
   "outputs": [],
   "source": [
    "# Define reagents and liquid waste\n",
    "sample = block['B1']\n",
    "beads = block['A1']\n",
    "beads_well = mag_plate['A1']\n",
    "output_well = mag_plate['A2']\n",
    "\n",
    "wash_buffer = block['A2']\n",
    "elution_buffer = block['A3']\n",
    "binding_buffer = block['A4']\n",
    "liquid_waste = block['A5']\n",
    "\n",
    "\n",
    "# Define bead and mix volume\n",
    "sample_volume = 10\n",
    "bead_ratio = 1.8\n",
    "binding_buf_volume = 90\n",
    "elution_buf_volume = 20\n",
    "washing_buf_volume = 100\n",
    "beads_volume = sample_volume*bead_ratio\n",
    "\n",
    "total_vol = beads_volume + binding_buf_volume + sample_volume\n",
    "\n",
    "# define waiting times\n",
    "settling_time = 1 # minute\n",
    "incubation_time = 5 # minutes\n",
    "drying_time = 20 # minutes"
   ]
  },
  {
   "cell_type": "markdown",
   "id": "b6ffd0f6-41d0-4790-80ae-a51caafd6f30",
   "metadata": {},
   "source": [
    "### Helper functions"
   ]
  },
  {
   "cell_type": "code",
   "execution_count": 144,
   "id": "925d0af4-69cb-4672-a216-f5c8c53b102e",
   "metadata": {},
   "outputs": [],
   "source": [
    "def remove_supernatant(volume, source, dest, asp_rate=0.2):\n",
    "    \"\"\" Remove supernatant carefully, with lower aspiration rate to not disturb the pellet\"\"\"\n",
    "    pipette.pick_up_tip()\n",
    "    pipette.aspirate(volume+10, source, rate=asp_rate) # add extra 10ul to make sure we aspirate everything\n",
    "    pipette.dispense(volume+10, dest)\n",
    "    pipette.drop_tip()"
   ]
  },
  {
   "cell_type": "markdown",
   "id": "9b9685bb-a627-42c0-b1ae-932bbd0c5761",
   "metadata": {},
   "source": [
    "### Prepare Beads"
   ]
  },
  {
   "cell_type": "code",
   "execution_count": 145,
   "id": "286b0c36-4ab4-4f80-9898-9aec1026acd7",
   "metadata": {},
   "outputs": [],
   "source": [
    "pipette.transfer(beads_volume, beads, beads_well, mix_before=(10, 150))\n",
    "\n",
    "\n",
    "mag_deck.engage()\n",
    "# wait for beads to separate\n",
    "protocol.delay(minutes=settling_time) \n",
    "\n",
    "# wash supernatant\n",
    "pipette.transfer(beads_volume, beads_well, liquid_waste)\n",
    "mag_deck.disengage()\n",
    "\n",
    "# wash twice with elution buffer\n",
    "for _ in range(2):\n",
    "    pipette.transfer(100, elution_buffer, beads_well, mix_after=(10, 50))\n",
    "    mag_deck.engage()\n",
    "    protocol.delay(minutes=settling_time)\n",
    "    remove_supernatant(100, beads_well, liquid_waste)\n",
    "    mag_deck.disengage()"
   ]
  },
  {
   "cell_type": "markdown",
   "id": "749f32dd-4449-463e-aa42-6129482501d6",
   "metadata": {},
   "source": [
    "### Purify Plasmid"
   ]
  },
  {
   "cell_type": "code",
   "execution_count": 146,
   "id": "e0f42dc6-01f5-4ff4-9ae3-51d1d573237f",
   "metadata": {},
   "outputs": [
    {
     "data": {
      "text/plain": [
       "<InstrumentContext: p300_single_v2.0 in RIGHT>"
      ]
     },
     "execution_count": 146,
     "metadata": {},
     "output_type": "execute_result"
    }
   ],
   "source": [
    "# Mix sample with binding buffer\n",
    "pipette.pick_up_tip()\n",
    "pipette.mix(20, 150, sample)\n",
    "pipette.drop_tip()\n",
    "p20.transfer(sample_volume, sample, beads_well) # TODO: use a p20 pipette for this. \n",
    "pipette.transfer(binding_buf_volume, binding_buffer, beads_well, mix_after=(10, 50))"
   ]
  },
  {
   "cell_type": "code",
   "execution_count": 147,
   "id": "08e15f08-0ca1-48f7-a8a5-0d6fb25196a2",
   "metadata": {},
   "outputs": [],
   "source": [
    "# Incubate beads and sample at room temperature\n",
    "protocol.delay(minutes=incubation_time) # Note: original protocol incubates while gently mixing, so this step could be a problem\n"
   ]
  },
  {
   "cell_type": "code",
   "execution_count": 148,
   "id": "0ec80906-a79a-4aaf-bd35-9c5d76c76169",
   "metadata": {},
   "outputs": [],
   "source": [
    "# Engagae MagDeck and incubate\n",
    "mag_deck.engage()\n",
    "protocol.delay(minutes=settling_time)"
   ]
  },
  {
   "cell_type": "code",
   "execution_count": 149,
   "id": "54e63397-b1f1-4923-8e26-08861986e164",
   "metadata": {},
   "outputs": [],
   "source": [
    "# Remove supernatant from magnetic beads\n",
    "remove_supernatant(total_vol, beads_well, liquid_waste)\n"
   ]
  },
  {
   "cell_type": "code",
   "execution_count": 150,
   "id": "5f386b83-c14e-45a6-987d-d72b3b5ab317",
   "metadata": {},
   "outputs": [],
   "source": [
    "# Wash beads twice with wash buffer\n",
    "air_vol = pipette.max_volume * 0.1\n",
    "wash_buf_volume = 100\n",
    "mix_vol = wash_buf_volume / 2\n",
    "for _ in range(2):\n",
    "    mag_deck.disengage()\n",
    "    pipette.transfer(wash_buf_volume, wash_buffer, beads_well, air_gap=air_vol, mix_after=(10, mix_vol))\n",
    "    mag_deck.engage()\n",
    "    protocol.delay(minutes=settling_time)\n",
    "    pipette.transfer(wash_buf_volume, beads_well, liquid_waste, air_gap=air_vol) # TODO: do I need to be careful with aspiration rate here?\n"
   ]
  },
  {
   "cell_type": "code",
   "execution_count": 151,
   "id": "8fdefdc5-56b4-4ecf-87df-4afcf17423c2",
   "metadata": {},
   "outputs": [],
   "source": [
    "# Dry at RT\n",
    "protocol.delay(minutes=drying_time)"
   ]
  },
  {
   "cell_type": "markdown",
   "id": "06aabdbb-0ffb-4eef-92d3-959207ac49a9",
   "metadata": {},
   "source": [
    "## Elute and collect the plasmid"
   ]
  },
  {
   "cell_type": "code",
   "execution_count": 152,
   "id": "b7b6e545-17fc-49be-b407-5c575da21ac3",
   "metadata": {},
   "outputs": [],
   "source": [
    "# Disengage MagDeck\n",
    "mag_deck.disengage()\n",
    "\n",
    "\n",
    "mix_vol = elution_buf_volume/2\n",
    "pipette.transfer(elution_buf_volume, elution_buffer, beads_well, mix_after=(20, mix_vol))\n",
    "\n",
    "# Incubate at RT\n",
    "protocol.delay(minutes=incubation_time) "
   ]
  },
  {
   "cell_type": "code",
   "execution_count": 153,
   "id": "4a4092a9-f9ff-441f-a01b-65aaaee4407c",
   "metadata": {},
   "outputs": [],
   "source": [
    "# Engage MagDeck and remain engaged for DNA elution\n",
    "mag_deck.engage()\n",
    "protocol.delay(minutes=settling_time)\n",
    "\n",
    "# Transfer clean PCR product to a new well\n",
    "remove_supernatant(elution_buf_volume, beads_well, output_well)\n"
   ]
  }
 ],
 "metadata": {
  "kernelspec": {
   "display_name": "Python 3 (ipykernel)",
   "language": "python",
   "name": "python3"
  },
  "language_info": {
   "codemirror_mode": {
    "name": "ipython",
    "version": 3
   },
   "file_extension": ".py",
   "mimetype": "text/x-python",
   "name": "python",
   "nbconvert_exporter": "python",
   "pygments_lexer": "ipython3",
   "version": "3.9.6"
  }
 },
 "nbformat": 4,
 "nbformat_minor": 5
}

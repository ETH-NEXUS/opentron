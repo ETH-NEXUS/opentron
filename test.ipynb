{
 "cells": [
  {
   "cell_type": "code",
   "execution_count": 11,
   "id": "03bf8045-3b8d-4f28-b977-4cec488e05cf",
   "metadata": {},
   "outputs": [],
   "source": [
    "import opentrons as ot\n",
    "from opentrons import protocol_api\n",
    "\n",
    "metadata = {'apiLevel': '2.13'}"
   ]
  },
  {
   "cell_type": "code",
   "execution_count": 12,
   "id": "8f9b13a3-8e86-461c-8153-a673b3afd50e",
   "metadata": {},
   "outputs": [],
   "source": [
    "def run(protocol: protocol_api.ProtocolContext):\n",
    "    plate = protocol.load_labware('corning_96_wellplate_360ul_flat', 2)\n",
    "    tiprack = protocol.load_labware('opentrons_96_tiprack_300ul', 1)\n",
    "    pipette = protocol.load_instrument('p300_single', 'right',\n",
    "                                     tip_racks=[tiprack])\n",
    "    pipette.pick_up_tip()\n",
    "    pipette.aspirate(300, plate['A1'])\n",
    "    pipette.dispense(300, plate['B1'])\n",
    "    "
   ]
  },
  {
   "cell_type": "code",
   "execution_count": 10,
   "id": "cf79a791-71e4-4e15-b6eb-76baa1c899c9",
   "metadata": {},
   "outputs": [
    {
     "name": "stderr",
     "output_type": "stream",
     "text": [
      "/Users/omelkonyan/.opentrons/robot_settings.json not found. Loading defaults\n",
      "/Users/omelkonyan/.opentrons/deck_calibration.json not found. Loading defaults\n"
     ]
    }
   ],
   "source": [
    "# from opentrons import simulate\n",
    "# protocol = simulate.get_protocol_api(metadata['apiLevel'])\n",
    "# test(protocol)"
   ]
  },
  {
   "cell_type": "code",
   "execution_count": null,
   "id": "13050fee-3f94-42e0-a35b-b50dbc30bbee",
   "metadata": {},
   "outputs": [],
   "source": []
  }
 ],
 "metadata": {
  "kernelspec": {
   "display_name": "Python 3 (ipykernel)",
   "language": "python",
   "name": "python3"
  },
  "language_info": {
   "codemirror_mode": {
    "name": "ipython",
    "version": 3
   },
   "file_extension": ".py",
   "mimetype": "text/x-python",
   "name": "python",
   "nbconvert_exporter": "python",
   "pygments_lexer": "ipython3",
   "version": "3.9.6"
  }
 },
 "nbformat": 4,
 "nbformat_minor": 5
}
